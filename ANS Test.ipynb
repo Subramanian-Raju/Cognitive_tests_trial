{
 "cells": [
  {
   "cell_type": "code",
   "execution_count": 3,
   "id": "fa318987-256c-4d1d-af85-9ad0d958f06d",
   "metadata": {},
   "outputs": [],
   "source": [
    "from IPython.display import display, clear_output, HTML, Image\n",
    "import time\n",
    "import random\n",
    "import ipywidgets as widgets\n",
    "from jupyter_ui_poll import ui_events\n",
    "import requests\n",
    "from bs4 import BeautifulSoup\n",
    "import json\n",
    "import pandas as pd"
   ]
  },
  {
   "cell_type": "code",
   "execution_count": 37,
   "id": "ba79d470-6b2c-4bd1-94d3-b71e3f4616a8",
   "metadata": {},
   "outputs": [],
   "source": [
    "import requests\n",
    "from bs4 import BeautifulSoup\n",
    "import json\n",
    "import time\n",
    "\n",
    "def send_to_google_form(data_dict, form_url):\n",
    "    ''' Helper function to upload information to a corresponding google form \n",
    "        You are not expected to follow the code within this function!\n",
    "    '''\n",
    "    form_id = form_url[34:90]\n",
    "    view_form_url = f'https://docs.google.com/forms/d/e/{form_id}/viewform'\n",
    "    post_form_url = f'https://docs.google.com/forms/d/e/{form_id}/formResponse'\n",
    "\n",
    "    page = requests.get(view_form_url)\n",
    "    content = BeautifulSoup(page.content, \"html.parser\").find('script', type='text/javascript')\n",
    "    content = content.text[27:-1]\n",
    "    result = json.loads(content)[1][1]\n",
    "    form_dict = {}\n",
    "    \n",
    "    loaded_all = True\n",
    "    for item in result:\n",
    "        if item[1] not in data_dict:\n",
    "            print(f\"Form item {item[1]} not found. Data not uploaded.\")\n",
    "            loaded_all = False\n",
    "            return False\n",
    "        form_dict[f'entry.{item[4][0][0]}'] = data_dict[item[1]]\n",
    "    \n",
    "    post_result = requests.post(post_form_url, data=form_dict)\n",
    "    return post_result.ok\n",
    "  "
   ]
  },
  {
   "cell_type": "code",
   "execution_count": 38,
   "id": "11cb1c7e-0d53-4926-92fb-3d3a52fa6234",
   "metadata": {},
   "outputs": [],
   "source": [
    "event_info = {\n",
    "    'type': '',\n",
    "    'description': '',\n",
    "    'time': -1\n",
    "}\n",
    "\n",
    "def wait_for_event(timeout=-1, interval=0.001, max_rate=20, allow_interupt=True):    \n",
    "    start_wait = time.time()\n",
    "\n",
    "    # set event info to be empty\n",
    "    # as this is dict we can change entries\n",
    "    # directly without using\n",
    "    # the global keyword\n",
    "    event_info['type'] = \"\"\n",
    "    event_info['description'] = \"\"\n",
    "    event_info['time'] = -1\n",
    "\n",
    "    n_proc = int(max_rate*interval)+1\n",
    "    \n",
    "    with ui_events() as ui_poll:\n",
    "        keep_looping = True\n",
    "        while keep_looping==True:\n",
    "            # process UI events\n",
    "            ui_poll(n_proc)\n",
    "\n",
    "            # end loop if we have waited more than the timeout period\n",
    "            if (timeout != -1) and (time.time() > start_wait + timeout):\n",
    "                keep_looping = False\n",
    "                \n",
    "            # end loop if event has occured\n",
    "            if allow_interupt==True and event_info['description']!=\"\":\n",
    "                keep_looping = False\n",
    "                \n",
    "            # add pause before looping\n",
    "            # to check events again\n",
    "            time.sleep(interval)\n",
    "    \n",
    "    # return event description after wait ends\n",
    "    # will be set to empty string '' if no event occured\n",
    "    return event_info\n",
    "\n",
    "# this function lets buttons \n",
    "# register events when clicked\n",
    "def register_btn_event(btn):\n",
    "    event_info['type'] = \"button click\"\n",
    "    event_info['description'] = btn.description\n",
    "    event_info['time'] = time.time()\n",
    "    return"
   ]
  },
  {
   "cell_type": "code",
   "execution_count": 39,
   "id": "c01e54e2-2132-42bd-b3d3-645356d778ff",
   "metadata": {},
   "outputs": [],
   "source": [
    "y1 = Image(\"y1.png\", width = 400)\n",
    "b1 = Image(\"b1.png\", width = 400)\n",
    "y2 = Image(\"y2.png\", width = 400)\n",
    "b2 = Image(\"b2.png\", width = 400)\n",
    "y3 = Image(\"y3.png\", width = 400)\n",
    "b3 = Image(\"b3.png\", width = 400)\n",
    "b4 = Image(\"b4.png\", width = 400)\n",
    "y4 = Image(\"y4.png\", width = 400)\n",
    "y5 = Image(\"y5.png\", width = 400)\n",
    "b5 = Image(\"b5.png\", width = 400)\n",
    "y6 = Image(\"y6.png\", width = 400)\n",
    "b6 = Image(\"b6.png\", width = 400)\n",
    "y7 = Image(\"y7.png\", width = 400)\n",
    "b7 = Image(\"b7.png\", width = 400)\n",
    "y8 = Image(\"y8.png\", width = 400)\n",
    "b8 = Image(\"b8.png\", width = 400)\n",
    "y9 = Image(\"y9.png\", width = 400)\n",
    "b9 = Image(\"b9.png\", width = 400)\n",
    "y10 = Image(\"y10.png\", width = 400)\n",
    "b10 = Image(\"b10.png\", width = 400)\n",
    "y11 = Image(\"y11.png\", width = 400)\n",
    "b11 = Image(\"b11.png\", width = 400)\n",
    "y12 = Image(\"y12.png\", width = 400)\n",
    "b12 = Image(\"b12.png\", width = 400)\n",
    "y13 = Image(\"y13.png\", width = 400)\n",
    "b13 = Image(\"b13.png\", width = 400)\n",
    "y14 = Image(\"y14.png\", width = 400)\n",
    "b14 = Image(\"b14.png\", width = 400)\n",
    "y15 = Image(\"y15.png\", width = 400)\n",
    "b15 = Image(\"b15.png\", width = 400)\n",
    "y16 = Image(\"y16.png\", width = 400)\n",
    "b16 = Image(\"b16.png\", width = 400)\n",
    "y17 = Image(\"y17.png\", width = 400)\n",
    "b17 = Image(\"b17.png\", width = 400)\n",
    "y18 = Image(\"y18.png\", width = 400)\n",
    "b18 = Image(\"b18.png\", width = 400)\n",
    "y19 = Image(\"y19.png\", width = 400)\n",
    "b19 = Image(\"b19.png\", width = 400)\n",
    "y20 = Image(\"y20.png\", width = 400)\n",
    "b20 = Image(\"b20.png\", width = 400)\n",
    "y21 = Image(\"y21.png\", width = 400)\n",
    "b21 = Image(\"b21.png\", width = 400)\n",
    "\n",
    "pictures = [y1, b1, y2, b2, y3, b3, y4, b4, y5, b5, y6, b6, y7, b7, y8, b8, y9, b9, y10, b10, y11, b11, y12, b12, y13, b13, y14, b14, y15, b15, y16, b16, y17, b17, y18, b18, y19, b19, y20, b20, y21, b21]\n",
    "answers = [\"y\", \"b\", \"y\", \"b\", \"y\", \"b\", \"y\", \"b\", \"y\", \"b\", \"y\", \"b\", \"y\", \"b\", \"y\", \"b\", \"y\", \"b\", \"y\", \"b\", \"y\", \"b\", \"y\", \"b\", \"y\", \"b\", \"y\", \"b\", \"y\", \"b\", \"y\", \"b\", \"y\", \"b\", \"y\", \"b\", \"y\", \"b\", \"y\", \"b\", \"y\", \"b\"]"
   ]
  },
  {
   "cell_type": "code",
   "execution_count": 45,
   "id": "1753e2af-7d1e-488c-a2f8-f06549a7dbf0",
   "metadata": {},
   "outputs": [
    {
     "data": {
      "text/html": [
       "<div>\n",
       "<style scoped>\n",
       "    .dataframe tbody tr th:only-of-type {\n",
       "        vertical-align: middle;\n",
       "    }\n",
       "\n",
       "    .dataframe tbody tr th {\n",
       "        vertical-align: top;\n",
       "    }\n",
       "\n",
       "    .dataframe thead th {\n",
       "        text-align: right;\n",
       "    }\n",
       "</style>\n",
       "<table border=\"1\" class=\"dataframe\">\n",
       "  <thead>\n",
       "    <tr style=\"text-align: right;\">\n",
       "      <th></th>\n",
       "      <th>id</th>\n",
       "      <th>age</th>\n",
       "      <th>score</th>\n",
       "    </tr>\n",
       "  </thead>\n",
       "  <tbody>\n",
       "    <tr>\n",
       "      <th>0</th>\n",
       "      <td>a</td>\n",
       "      <td>1</td>\n",
       "      <td>1</td>\n",
       "    </tr>\n",
       "  </tbody>\n",
       "</table>\n",
       "</div>"
      ],
      "text/plain": [
       "  id  age  score\n",
       "0  a    1      1"
      ]
     },
     "execution_count": 45,
     "metadata": {},
     "output_type": "execute_result"
    }
   ],
   "source": [
    "data_dict = {\n",
    "\n",
    "'id': [\"a\"],\n",
    "\n",
    "'age': [1],\n",
    "\n",
    "'score': [1],\n",
    "\n",
    "}\n",
    "\n",
    "mydataframe = pd.DataFrame(data_dict)\n",
    "mydataframe"
   ]
  },
  {
   "cell_type": "code",
   "execution_count": 19,
   "id": "9ee93c64-34da-4a16-9357-0239049b6448",
   "metadata": {},
   "outputs": [
    {
     "data": {
      "application/vnd.jupyter.widget-view+json": {
       "model_id": "ca413b9aa96d469b9ff94cdf6744a685",
       "version_major": 2,
       "version_minor": 0
      },
      "text/plain": [
       "Output(layout=Layout(height='60px'), outputs=({'output_type': 'display_data', 'data': {'text/plain': '<IPython…"
      ]
     },
     "metadata": {},
     "output_type": "display_data"
    },
    {
     "data": {
      "application/vnd.jupyter.widget-view+json": {
       "model_id": "7ab452a99dc94b8aa1c59063843990dc",
       "version_major": 2,
       "version_minor": 0
      },
      "text/plain": [
       "Output(layout=Layout(height='250px'))"
      ]
     },
     "metadata": {},
     "output_type": "display_data"
    },
    {
     "data": {
      "application/vnd.jupyter.widget-view+json": {
       "model_id": "20a2c09ce5bd45f0bdda4d9f1d8091b6",
       "version_major": 2,
       "version_minor": 0
      },
      "text/plain": [
       "Output(layout=Layout(height='60px'), outputs=({'output_type': 'display_data', 'data': {'text/plain': \"HBox(chi…"
      ]
     },
     "metadata": {},
     "output_type": "display_data"
    },
    {
     "name": "stdin",
     "output_type": "stream",
     "text": [
      "What is your name? Subs\n",
      "What is your age? 22\n"
     ]
    }
   ],
   "source": [
    "from IPython.display import display, clear_output, HTML, Image\n",
    "\n",
    "pictures = [y1, b1, y2, b2, y3, b3, y4, b4, y5, b5, y6, b6, y7, b7, y8, b8, y9, b9, y10, b10, y11, b11, y12, b12, y13, b13, y14, b14, y15, b15, y16, b16, y17, b17, y18, b18, y19, b19, y20, b20, y21, b21]\n",
    "answers = [\"Y\", \"B\", \"Y\", \"B\", \"Y\", \"B\", \"Y\", \"B\", \"Y\", \"B\", \"Y\", \"B\", \"Y\", \"B\", \"Y\", \"B\", \"Y\", \"B\", \"Y\", \"B\", \"Y\", \"B\", \"Y\", \"B\", \"Y\", \"B\", \"Y\", \"B\", \"Y\", \"B\", \"Y\", \"B\", \"Y\", \"B\", \"Y\", \"B\", \"Y\", \"B\", \"Y\", \"B\", \"Y\", \"B\"] \n",
    "top_area = widgets.Output(layout={\"height\":\"60px\"})\n",
    "main_area = widgets.Output(layout={\"height\":\"250px\"})\n",
    "bottom_area = widgets.Output(layout={\"height\":\"60px\"})\n",
    "\n",
    "newdata = {\n",
    "'id':\"Subramanian\",\n",
    "'age': 21,\n",
    "'score': 42,\n",
    "}\n",
    "\n",
    "btn1 = widgets.Button(description=\"Y\")\n",
    "btn2 = widgets.Button(description=\"B\")\n",
    "\n",
    "btn1.on_click(register_btn_event)\n",
    "btn2.on_click(register_btn_event)\n",
    "\n",
    "panel = widgets.HBox([btn1, btn2])\n",
    "top_area.append_display_data( HTML(\"<h1>ANS Test</h1>\") )\n",
    "\n",
    "bottom_area.append_display_data(panel)\n",
    "\n",
    "display(top_area)\n",
    "display(main_area)\n",
    "display(bottom_area)\n",
    "\n",
    "n = len(pictures)\n",
    "score = 0\n",
    "ans_id = input(\"What is your name?\")\n",
    "newdata[\"id\"] = ans_id\n",
    "ans_age = input(\"What is your age?\")\n",
    "newdata[\"age\"] = ans_age\n",
    "\n",
    "for i in range(n):\n",
    "    with main_area: display(pictures[i])\n",
    "    with main_area: time.sleep(1)\n",
    "    with main_area: clear_output(wait = False)\n",
    "    with main_area: print(\"Which colour had more dots?\")\n",
    "    result = wait_for_event(timeout=3)\n",
    "    \n",
    "    if result['description'] == '':\n",
    "        with main_area: display(\"Too slow!\")\n",
    "    elif result['description'] ==  answers[i]:\n",
    "        with main_area: display(\"Correct!\")\n",
    "        score = score + 1\n",
    "    else:\n",
    "        with main_area: display(\"Wrong!\")\n",
    "    \n",
    "    wait_for_event(timeout=1)\n",
    "    with main_area: clear_output()\n",
    "        \n",
    "with bottom_area: clear_output()\n",
    "\n",
    "with main_area: print(f\"You scored {score}\")\n",
    "newdata[\"score\"] = score"
   ]
  },
  {
   "cell_type": "code",
   "execution_count": 50,
   "id": "8b3df81b-77ff-4bdb-a576-05626d5bc798",
   "metadata": {},
   "outputs": [
    {
     "data": {
      "text/plain": [
       "True"
      ]
     },
     "execution_count": 50,
     "metadata": {},
     "output_type": "execute_result"
    }
   ],
   "source": [
    "newdataframe = pd.DataFrame(newdata, index=[1])\n",
    "mydataframe2 = pd.concat([mydataframe, newdataframe], axis='rows', ignore_index=True)\n",
    "data_dict[\"results\"] = mydataframe2.to_json()\n",
    "form_url = \"https://docs.google.com/forms/d/e/1FAIpQLSe5A2E0XojVHl2GEunHO2Dia91HkXRvr90CHe6DgLFa7iBN8Q/viewform?usp=sf_link\"\n",
    "send_to_google_form(data_dict, form_url)"
   ]
  },
  {
   "cell_type": "code",
   "execution_count": null,
   "id": "88c391fd-f3af-40f6-8a0d-7c719a396c5c",
   "metadata": {},
   "outputs": [],
   "source": []
  }
 ],
 "metadata": {
  "kernelspec": {
   "display_name": "Python 3 (ipykernel)",
   "language": "python",
   "name": "python3"
  },
  "language_info": {
   "codemirror_mode": {
    "name": "ipython",
    "version": 3
   },
   "file_extension": ".py",
   "mimetype": "text/x-python",
   "name": "python",
   "nbconvert_exporter": "python",
   "pygments_lexer": "ipython3",
   "version": "3.10.10"
  }
 },
 "nbformat": 4,
 "nbformat_minor": 5
}
