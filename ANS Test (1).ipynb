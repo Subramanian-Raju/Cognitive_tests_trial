{
 "cells": [
  {
   "cell_type": "code",
   "execution_count": 5,
   "id": "fa318987-256c-4d1d-af85-9ad0d958f06d",
   "metadata": {},
   "outputs": [],
   "source": [
    "from IPython.display import display, clear_output, HTML, Image\n",
    "import time\n",
    "import random\n",
    "import ipywidgets as widgets\n",
    "from jupyter_ui_poll import ui_events\n",
    "import requests\n",
    "from bs4 import BeautifulSoup\n",
    "import json\n",
    "import pandas as pd"
   ]
  },
  {
   "cell_type": "code",
   "execution_count": 6,
   "id": "ba79d470-6b2c-4bd1-94d3-b71e3f4616a8",
   "metadata": {},
   "outputs": [],
   "source": [
    "import requests\n",
    "from bs4 import BeautifulSoup\n",
    "import json\n",
    "import time\n",
    "\n",
    "def send_to_google_form(data_dict, form_url):\n",
    "    ''' Helper function to upload information to a corresponding google form \n",
    "        You are not expected to follow the code within this function!\n",
    "    '''\n",
    "    form_id = form_url[34:90]\n",
    "    view_form_url = f'https://docs.google.com/forms/d/e/{form_id}/viewform'\n",
    "    post_form_url = f'https://docs.google.com/forms/d/e/{form_id}/formResponse'\n",
    "\n",
    "    page = requests.get(view_form_url)\n",
    "    content = BeautifulSoup(page.content, \"html.parser\").find('script', type='text/javascript')\n",
    "    content = content.text[27:-1]\n",
    "    result = json.loads(content)[1][1]\n",
    "    form_dict = {}\n",
    "    \n",
    "    loaded_all = True\n",
    "    for item in result:\n",
    "        if item[1] not in data_dict:\n",
    "            print(f\"Form item {item[1]} not found. Data not uploaded.\")\n",
    "            loaded_all = False\n",
    "            return False\n",
    "        form_dict[f'entry.{item[4][0][0]}'] = data_dict[item[1]]\n",
    "    \n",
    "    post_result = requests.post(post_form_url, data=form_dict)\n",
    "    return post_result.ok\n",
    "  "
   ]
  },
  {
   "cell_type": "code",
   "execution_count": 7,
   "id": "11cb1c7e-0d53-4926-92fb-3d3a52fa6234",
   "metadata": {},
   "outputs": [],
   "source": [
    "event_info = {\n",
    "    'type': '',\n",
    "    'description': '',\n",
    "    'time': -1\n",
    "}\n",
    "\n",
    "def wait_for_event(timeout=-1, interval=0.001, max_rate=20, allow_interupt=True):    \n",
    "    start_wait = time.time()\n",
    "\n",
    "    # set event info to be empty\n",
    "    # as this is dict we can change entries\n",
    "    # directly without using\n",
    "    # the global keyword\n",
    "    event_info['type'] = \"\"\n",
    "    event_info['description'] = \"\"\n",
    "    event_info['time'] = -1\n",
    "\n",
    "    n_proc = int(max_rate*interval)+1\n",
    "    \n",
    "    with ui_events() as ui_poll:\n",
    "        keep_looping = True\n",
    "        while keep_looping==True:\n",
    "            # process UI events\n",
    "            ui_poll(n_proc)\n",
    "\n",
    "            # end loop if we have waited more than the timeout period\n",
    "            if (timeout != -1) and (time.time() > start_wait + timeout):\n",
    "                keep_looping = False\n",
    "                \n",
    "            # end loop if event has occured\n",
    "            if allow_interupt==True and event_info['description']!=\"\":\n",
    "                keep_looping = False\n",
    "                \n",
    "            # add pause before looping\n",
    "            # to check events again\n",
    "            time.sleep(interval)\n",
    "    \n",
    "    # return event description after wait ends\n",
    "    # will be set to empty string '' if no event occured\n",
    "    return event_info\n",
    "\n",
    "# this function lets buttons \n",
    "# register events when clicked\n",
    "def register_btn_event(btn):\n",
    "    event_info['type'] = \"button click\"\n",
    "    event_info['description'] = btn.description\n",
    "    event_info['time'] = time.time()\n",
    "    return"
   ]
  },
  {
   "cell_type": "code",
   "execution_count": 8,
   "id": "41f18307-7421-4f9d-9fcc-934a022f24d8",
   "metadata": {},
   "outputs": [],
   "source": [
    "filenames = [\"b10_09.png\", \"y09_10.png\", \"b14_10.png\", \"y10_14.png\",\"b14_12.png\", \"y12_14.png\",\"b14_11.png\", \"y11_14.png\",\"b16_12.png\", \"y12_16.png\",\"b18_13.png\", \"y13_18.png\",\"b18_14.png\", \"y14_18.png\",\"b18_16.png\", \"y16_18.png\",\"b20_15.png\", \"y15_20.png\",\"b20_18.png\", \"y18_20.png\",\"b21_18.png\", \"y18_21.png\", \"b12_09.png\", \"y09_12.png\"]"
   ]
  },
  {
   "cell_type": "code",
   "execution_count": 39,
   "id": "d61afea6-0d3a-4ee8-a878-38782077356a",
   "metadata": {},
   "outputs": [
    {
     "name": "stdout",
     "output_type": "stream",
     "text": [
      "DATA CONSENT INFORMATION:\n",
      "\n",
      "Please read:\n",
      "\n",
      "we wish to record your response data to an anonymised public data repository.\n",
      "\n",
      "Your data will be used for educational teaching purposes practising data analysis and visualisation.\n",
      "\n",
      "Please type yes in the box below if you consent to the upload.\n"
     ]
    },
    {
     "name": "stdin",
     "output_type": "stream",
     "text": [
      ">  YES\n"
     ]
    },
    {
     "name": "stdout",
     "output_type": "stream",
     "text": [
      "Thanks for your participation.\n",
      "Please contact philip.lewis@ucl.ac.uk\n",
      "If you have any questions or concerns\n",
      "regarding the stored results.\n"
     ]
    }
   ],
   "source": [
    "data_consent_info = \"\"\"DATA CONSENT INFORMATION:\n",
    "\n",
    "Please read:\n",
    "\n",
    "we wish to record your response data to an anonymised public data repository.\n",
    "\n",
    "Your data will be used for educational teaching purposes practising data analysis and visualisation.\n",
    "\n",
    "Please type yes in the box below if you consent to the upload.\"\"\"\n",
    "\n",
    "print(data_consent_info)\n",
    "\n",
    "result = input(\"> \")\n",
    "\n",
    "if result.lower() == \"yes\":\n",
    "\n",
    "    print(\"Thanks for your participation.\")\n",
    "\n",
    "    print(\"Please contact philip.lewis@ucl.ac.uk\")\n",
    "\n",
    "    print(\"If you have any questions or concerns\")\n",
    "\n",
    "    print(\"regarding the stored results.\")\n",
    "\n",
    "else:\n",
    "\n",
    "# end code execution by raising an exception\n",
    "\n",
    "    raise(Exception(\"User did not consent to continue test.\"))"
   ]
  },
  {
   "cell_type": "code",
   "execution_count": 41,
   "id": "7b371cf4-d4a0-4983-8cb1-963769d1c1de",
   "metadata": {},
   "outputs": [
    {
     "name": "stdout",
     "output_type": "stream",
     "text": [
      "\n",
      "\n",
      "Enter your anonymised ID\n",
      "\n",
      "To generate an anonymous 4-letter unique user identifier please enter:\n",
      "\n",
      "- two letters based on the initials (first and last name) of a childhood friend\n",
      "\n",
      "- two letters based on the initials (first and last name) of a favourite actor / actress\n",
      "\n",
      "e.g. if your friend was called Charlie Brown and film star was Tom Cruise\n",
      "\n",
      "then your unique identifer would be CBTC\n",
      "\n",
      "\n"
     ]
    },
    {
     "name": "stdin",
     "output_type": "stream",
     "text": [
      ">  VRTV\n"
     ]
    },
    {
     "name": "stdout",
     "output_type": "stream",
     "text": [
      "User entered id: VRTV\n"
     ]
    }
   ],
   "source": [
    "id_instructions = \"\"\"\n",
    "\n",
    "Enter your anonymised ID\n",
    "\n",
    "To generate an anonymous 4-letter unique user identifier please enter:\n",
    "\n",
    "- two letters based on the initials (first and last name) of a childhood friend\n",
    "\n",
    "- two letters based on the initials (first and last name) of a favourite actor / actress\n",
    "\n",
    "e.g. if your friend was called Charlie Brown and film star was Tom Cruise\n",
    "\n",
    "then your unique identifer would be CBTC\n",
    "\n",
    "\"\"\"\n",
    "\n",
    "print(id_instructions)\n",
    "\n",
    "user_id = input(\"> \")\n",
    "\n",
    "print(\"User entered id:\", user_id)"
   ]
  },
  {
   "cell_type": "code",
   "execution_count": 42,
   "id": "9ee93c64-34da-4a16-9357-0239049b6448",
   "metadata": {},
   "outputs": [
    {
     "data": {
      "application/vnd.jupyter.widget-view+json": {
       "model_id": "b81445d5196b4733acffc9c2c6994eb8",
       "version_major": 2,
       "version_minor": 0
      },
      "text/plain": [
       "Output(layout=Layout(height='60px'), outputs=({'output_type': 'display_data', 'data': {'text/plain': '<IPython…"
      ]
     },
     "metadata": {},
     "output_type": "display_data"
    },
    {
     "data": {
      "application/vnd.jupyter.widget-view+json": {
       "model_id": "aa2a8d64ad864ad8a34bad7d2e65862e",
       "version_major": 2,
       "version_minor": 0
      },
      "text/plain": [
       "Output(layout=Layout(height='250px'))"
      ]
     },
     "metadata": {},
     "output_type": "display_data"
    },
    {
     "data": {
      "application/vnd.jupyter.widget-view+json": {
       "model_id": "6676114e7f0b4911bbc81d50eb3c969d",
       "version_major": 2,
       "version_minor": 0
      },
      "text/plain": [
       "Output(layout=Layout(height='60px'), outputs=({'output_type': 'display_data', 'data': {'text/plain': \"HBox(chi…"
      ]
     },
     "metadata": {},
     "output_type": "display_data"
    },
    {
     "name": "stdin",
     "output_type": "stream",
     "text": [
      "What is your age? 21\n"
     ]
    }
   ],
   "source": [
    "from IPython.display import display, clear_output, HTML, Image\n",
    " \n",
    "top_area = widgets.Output(layout={\"height\":\"60px\"})\n",
    "main_area = widgets.Output(layout={\"height\":\"250px\"})\n",
    "bottom_area = widgets.Output(layout={\"height\":\"60px\"})\n",
    "\n",
    "newdata = {\n",
    "'id':\"A\",\n",
    "'age': 0,\n",
    "'score': 0,\n",
    "}\n",
    "\n",
    "test_df = {\n",
    "    'filename': [],\n",
    "    'nL': [],\n",
    "    'nR': [],\n",
    "    'corr_ans': [],\n",
    "    'ans': [],\n",
    "    'score': []\n",
    "}\n",
    "\n",
    "btn1 = widgets.Button(description=\"Y\")\n",
    "btn2 = widgets.Button(description=\"B\")\n",
    "\n",
    "btn1.on_click(register_btn_event)\n",
    "btn2.on_click(register_btn_event)\n",
    "\n",
    "panel = widgets.HBox([btn1, btn2])\n",
    "top_area.append_display_data( HTML(\"<h1>ANS Test</h1>\") )\n",
    "\n",
    "bottom_area.append_display_data(panel)\n",
    "\n",
    "display(top_area)\n",
    "display(main_area)\n",
    "display(bottom_area)\n",
    "\n",
    "n = len(filenames)\n",
    "score = 0\n",
    "newdata[\"id\"] = user_id\n",
    "ans_age = input(\"What is your age?\")\n",
    "newdata[\"age\"] = ans_age\n",
    "\n",
    "for i in range(n):\n",
    "    picture = Image(filenames[i], width = 400)\n",
    "    with main_area: display(picture)\n",
    "    with main_area: time.sleep(0.75)\n",
    "    with main_area: clear_output(wait = False)\n",
    "    with main_area: print(\"Which colour had more dots?\")\n",
    "    result = wait_for_event(timeout=3)\n",
    "    ans = 0\n",
    "    if result['description'] == '':\n",
    "        with main_area: display(\"Too slow!\")\n",
    "    elif result['description'].lower() ==  filenames[i][0]:\n",
    "        with main_area: display(\"Correct!\")\n",
    "        ans = 1\n",
    "        score = score + 1\n",
    "    else:\n",
    "        with main_area: display(\"Wrong!\")\n",
    "\n",
    "    test_df['filename'].append(filenames[i])\n",
    "    test_df['nL'].append(filenames[i][1:3])\n",
    "    test_df['nR'].append(filenames[i][4:6])\n",
    "    test_df['corr_ans'].append(filenames[i][0])\n",
    "    test_df['ans'].append(result['description'].lower())\n",
    "    test_df['score'].append(ans)\n",
    "    wait_for_event(timeout=1)\n",
    "    with main_area: clear_output()\n",
    "        \n",
    "with bottom_area: clear_output()\n",
    "\n",
    "with main_area: print(f\"You scored {score}\")\n",
    "newdata[\"score\"] = score"
   ]
  },
  {
   "cell_type": "code",
   "execution_count": 43,
   "id": "8b3df81b-77ff-4bdb-a576-05626d5bc798",
   "metadata": {},
   "outputs": [
    {
     "data": {
      "text/plain": [
       "True"
      ]
     },
     "execution_count": 43,
     "metadata": {},
     "output_type": "execute_result"
    }
   ],
   "source": [
    "Question_info = pd.DataFrame(test_df)\n",
    "newdata[\"results_json\"] = Question_info.to_json()\n",
    "form_url = \"https://docs.google.com/forms/d/e/1FAIpQLSe5A2E0XojVHl2GEunHO2Dia91HkXRvr90CHe6DgLFa7iBN8Q/viewform?usp=sf_link\"\n",
    "send_to_google_form(newdata, form_url)"
   ]
  },
  {
   "cell_type": "code",
   "execution_count": 34,
   "id": "88c391fd-f3af-40f6-8a0d-7c719a396c5c",
   "metadata": {},
   "outputs": [
    {
     "data": {
      "text/plain": [
       "True"
      ]
     },
     "execution_count": 34,
     "metadata": {},
     "output_type": "execute_result"
    }
   ],
   "source": []
  },
  {
   "cell_type": "code",
   "execution_count": null,
   "id": "0e7ac9ed-d75b-4198-b9dc-62a44f0afd74",
   "metadata": {},
   "outputs": [],
   "source": []
  }
 ],
 "metadata": {
  "kernelspec": {
   "display_name": "Python 3 (ipykernel)",
   "language": "python",
   "name": "python3"
  },
  "language_info": {
   "codemirror_mode": {
    "name": "ipython",
    "version": 3
   },
   "file_extension": ".py",
   "mimetype": "text/x-python",
   "name": "python",
   "nbconvert_exporter": "python",
   "pygments_lexer": "ipython3",
   "version": "3.10.10"
  }
 },
 "nbformat": 4,
 "nbformat_minor": 5
}
